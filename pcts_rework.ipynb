{
 "cells": [
  {
   "cell_type": "markdown",
   "metadata": {},
   "source": [
    "## Percentage Mappings For Narrower Age Ranges"
   ]
  },
  {
   "cell_type": "code",
   "execution_count": 39,
   "metadata": {},
   "outputs": [],
   "source": [
    "import csv\n",
    "import pandas as pd\n",
    "import numpy as np\n",
    "import re\n",
    "from matplotlib import pyplot as plt"
   ]
  },
  {
   "cell_type": "code",
   "execution_count": 40,
   "metadata": {},
   "outputs": [],
   "source": [
    "# define a list of columns we want to keep\n",
    "keep = ['Characteristic','15 to 24 years', '25 to 29 years', '30 to 34 years', '35 to 39 years', '40 to 44 years','45 to 49 years',\n",
    "       '50 to 54 years', '55 to 59 years', '60 to 64 years','65 to 69 years',\n",
    "       '70 to 74 years', '75 years and over']\n",
    "\n",
    "\n",
    "def format_census_data(file, household_type):\n",
    "    file = file.dropna()\n",
    "    file = file.reindex(file.index.drop(0))\n",
    "    \n",
    "    file_lean = file[keep]\n",
    "    pct = pd.melt(file_lean, id_vars=['Characteristic'], value_vars=keep[1:], var_name='narrow_age_bucket', value_name='narrow_count')\n",
    "    pct.narrow_count = pd.to_numeric(pct['narrow_count'])*1000\n",
    "    pct['household_type'] = household_type\n",
    "    \n",
    "    return pct\n",
    "     "
   ]
  },
  {
   "cell_type": "markdown",
   "metadata": {},
   "source": [
    "Read in all the data sets loaded from the [US Census](https://www.census.gov/data/tables/time-series/demo/income-poverty/cps-hinc/hinc-02.html#par_textimage_12)."
   ]
  },
  {
   "cell_type": "code",
   "execution_count": 41,
   "metadata": {},
   "outputs": [],
   "source": [
    "mar = pd.read_csv('married_households.csv')\n",
    "sing_dad = pd.read_csv('single_dads.csv')\n",
    "sing_mom = pd.read_csv('single_moms.csv')\n",
    "male_alone = pd.read_csv('male_alone_no_fam.csv')\n",
    "male_not_alone = pd.read_csv('male_not_alone_no_fam.csv')\n",
    "fm_nf_na = pd.read_csv('female_non_fam_not_living_alone.csv')\n",
    "fm_nf_la = pd.read_csv('female_non_fam_living_alone.csv')"
   ]
  },
  {
   "cell_type": "code",
   "execution_count": 42,
   "metadata": {},
   "outputs": [
    {
     "data": {
      "text/html": [
       "<div>\n",
       "<style scoped>\n",
       "    .dataframe tbody tr th:only-of-type {\n",
       "        vertical-align: middle;\n",
       "    }\n",
       "\n",
       "    .dataframe tbody tr th {\n",
       "        vertical-align: top;\n",
       "    }\n",
       "\n",
       "    .dataframe thead th {\n",
       "        text-align: right;\n",
       "    }\n",
       "</style>\n",
       "<table border=\"1\" class=\"dataframe\">\n",
       "  <thead>\n",
       "    <tr style=\"text-align: right;\">\n",
       "      <th></th>\n",
       "      <th>Characteristic</th>\n",
       "      <th>Total</th>\n",
       "      <th>Total Under 65 years</th>\n",
       "      <th>15 to 24 years</th>\n",
       "      <th>Total.1</th>\n",
       "      <th>25 to 29 years</th>\n",
       "      <th>30 to 34 years</th>\n",
       "      <th>Total.2</th>\n",
       "      <th>35 to 39 years</th>\n",
       "      <th>40 to 44 years</th>\n",
       "      <th>...</th>\n",
       "      <th>50 to 54 years</th>\n",
       "      <th>Total.4</th>\n",
       "      <th>55 to 59 years</th>\n",
       "      <th>60 to 64 years</th>\n",
       "      <th>Total 65 years and over</th>\n",
       "      <th>Total.5</th>\n",
       "      <th>65 to 69 years</th>\n",
       "      <th>70 to 74 years</th>\n",
       "      <th>75 years and over</th>\n",
       "      <th>Mean age of householder</th>\n",
       "    </tr>\n",
       "  </thead>\n",
       "  <tbody>\n",
       "    <tr>\n",
       "      <th>0</th>\n",
       "      <td>....Total</td>\n",
       "      <td>61241.0</td>\n",
       "      <td>46664.0</td>\n",
       "      <td>887.0</td>\n",
       "      <td>8415.0</td>\n",
       "      <td>3080.0</td>\n",
       "      <td>5334.0</td>\n",
       "      <td>12267.0</td>\n",
       "      <td>6302.0</td>\n",
       "      <td>5965.0</td>\n",
       "      <td>...</td>\n",
       "      <td>6109.0</td>\n",
       "      <td>12700.0</td>\n",
       "      <td>6551.0</td>\n",
       "      <td>6149.0</td>\n",
       "      <td>14577.0</td>\n",
       "      <td>9751.0</td>\n",
       "      <td>5607.0</td>\n",
       "      <td>4145.0</td>\n",
       "      <td>4825.0</td>\n",
       "      <td>52.0</td>\n",
       "    </tr>\n",
       "    <tr>\n",
       "      <th>1</th>\n",
       "      <td>Under $5,000</td>\n",
       "      <td>800.0</td>\n",
       "      <td>534.0</td>\n",
       "      <td>16.0</td>\n",
       "      <td>123.0</td>\n",
       "      <td>42.0</td>\n",
       "      <td>81.0</td>\n",
       "      <td>119.0</td>\n",
       "      <td>67.0</td>\n",
       "      <td>51.0</td>\n",
       "      <td>...</td>\n",
       "      <td>40.0</td>\n",
       "      <td>177.0</td>\n",
       "      <td>91.0</td>\n",
       "      <td>86.0</td>\n",
       "      <td>266.0</td>\n",
       "      <td>148.0</td>\n",
       "      <td>70.0</td>\n",
       "      <td>78.0</td>\n",
       "      <td>118.0</td>\n",
       "      <td>54.8</td>\n",
       "    </tr>\n",
       "    <tr>\n",
       "      <th>2</th>\n",
       "      <td>$5,000 to $9,999</td>\n",
       "      <td>377.0</td>\n",
       "      <td>267.0</td>\n",
       "      <td>11.0</td>\n",
       "      <td>62.0</td>\n",
       "      <td>24.0</td>\n",
       "      <td>38.0</td>\n",
       "      <td>60.0</td>\n",
       "      <td>38.0</td>\n",
       "      <td>22.0</td>\n",
       "      <td>...</td>\n",
       "      <td>24.0</td>\n",
       "      <td>91.0</td>\n",
       "      <td>43.0</td>\n",
       "      <td>47.0</td>\n",
       "      <td>110.0</td>\n",
       "      <td>63.0</td>\n",
       "      <td>29.0</td>\n",
       "      <td>34.0</td>\n",
       "      <td>47.0</td>\n",
       "      <td>53.6</td>\n",
       "    </tr>\n",
       "    <tr>\n",
       "      <th>3</th>\n",
       "      <td>$10,000 to $14,999</td>\n",
       "      <td>640.0</td>\n",
       "      <td>452.0</td>\n",
       "      <td>12.0</td>\n",
       "      <td>90.0</td>\n",
       "      <td>41.0</td>\n",
       "      <td>49.0</td>\n",
       "      <td>103.0</td>\n",
       "      <td>58.0</td>\n",
       "      <td>46.0</td>\n",
       "      <td>...</td>\n",
       "      <td>43.0</td>\n",
       "      <td>162.0</td>\n",
       "      <td>74.0</td>\n",
       "      <td>87.0</td>\n",
       "      <td>189.0</td>\n",
       "      <td>111.0</td>\n",
       "      <td>56.0</td>\n",
       "      <td>55.0</td>\n",
       "      <td>77.0</td>\n",
       "      <td>54.1</td>\n",
       "    </tr>\n",
       "    <tr>\n",
       "      <th>4</th>\n",
       "      <td>$15,000 to $19,999</td>\n",
       "      <td>1025.0</td>\n",
       "      <td>580.0</td>\n",
       "      <td>20.0</td>\n",
       "      <td>130.0</td>\n",
       "      <td>51.0</td>\n",
       "      <td>79.0</td>\n",
       "      <td>112.0</td>\n",
       "      <td>68.0</td>\n",
       "      <td>44.0</td>\n",
       "      <td>...</td>\n",
       "      <td>82.0</td>\n",
       "      <td>198.0</td>\n",
       "      <td>87.0</td>\n",
       "      <td>112.0</td>\n",
       "      <td>446.0</td>\n",
       "      <td>233.0</td>\n",
       "      <td>140.0</td>\n",
       "      <td>93.0</td>\n",
       "      <td>213.0</td>\n",
       "      <td>58.0</td>\n",
       "    </tr>\n",
       "  </tbody>\n",
       "</table>\n",
       "<p>5 rows × 22 columns</p>\n",
       "</div>"
      ],
      "text/plain": [
       "       Characteristic    Total  Total Under 65 years  15 to 24 years  Total.1  \\\n",
       "0           ....Total  61241.0               46664.0           887.0   8415.0   \n",
       "1        Under $5,000    800.0                 534.0            16.0    123.0   \n",
       "2    $5,000 to $9,999    377.0                 267.0            11.0     62.0   \n",
       "3  $10,000 to $14,999    640.0                 452.0            12.0     90.0   \n",
       "4  $15,000 to $19,999   1025.0                 580.0            20.0    130.0   \n",
       "\n",
       "   25 to 29 years  30 to 34 years  Total.2  35 to 39 years  40 to 44 years  \\\n",
       "0          3080.0          5334.0  12267.0          6302.0          5965.0   \n",
       "1            42.0            81.0    119.0            67.0            51.0   \n",
       "2            24.0            38.0     60.0            38.0            22.0   \n",
       "3            41.0            49.0    103.0            58.0            46.0   \n",
       "4            51.0            79.0    112.0            68.0            44.0   \n",
       "\n",
       "   ...  50 to 54 years  Total.4  55 to 59 years  60 to 64 years  \\\n",
       "0  ...          6109.0  12700.0          6551.0          6149.0   \n",
       "1  ...            40.0    177.0            91.0            86.0   \n",
       "2  ...            24.0     91.0            43.0            47.0   \n",
       "3  ...            43.0    162.0            74.0            87.0   \n",
       "4  ...            82.0    198.0            87.0           112.0   \n",
       "\n",
       "   Total 65 years and over  Total.5  65 to 69 years  70 to 74 years  \\\n",
       "0                  14577.0   9751.0          5607.0          4145.0   \n",
       "1                    266.0    148.0            70.0            78.0   \n",
       "2                    110.0     63.0            29.0            34.0   \n",
       "3                    189.0    111.0            56.0            55.0   \n",
       "4                    446.0    233.0           140.0            93.0   \n",
       "\n",
       "   75 years and over  Mean age of householder  \n",
       "0             4825.0                     52.0  \n",
       "1              118.0                     54.8  \n",
       "2               47.0                     53.6  \n",
       "3               77.0                     54.1  \n",
       "4              213.0                     58.0  \n",
       "\n",
       "[5 rows x 22 columns]"
      ]
     },
     "execution_count": 42,
     "metadata": {},
     "output_type": "execute_result"
    }
   ],
   "source": [
    "mar.head()"
   ]
  },
  {
   "cell_type": "markdown",
   "metadata": {},
   "source": [
    "Format the data"
   ]
  },
  {
   "cell_type": "code",
   "execution_count": 43,
   "metadata": {},
   "outputs": [],
   "source": [
    "mar1 = format_census_data(mar, 'married')\n",
    "sing_dad1 = format_census_data(sing_dad, 'single_dad')\n",
    "sing_mom1 = format_census_data(sing_mom, 'single_mom')\n",
    "male_alone1 = format_census_data(male_alone, 'male_alone')\n",
    "male_not_alone1 = format_census_data(male_not_alone, 'male_not_alone')\n",
    "fm_nf_na1 = format_census_data(fm_nf_na, 'single_woman')\n",
    "fm_nf_la1 = format_census_data(fm_nf_la, 'single_woman')"
   ]
  },
  {
   "cell_type": "code",
   "execution_count": 44,
   "metadata": {},
   "outputs": [],
   "source": [
    "total = pd.concat([mar1, sing_dad1, sing_mom1, male_alone1, male_not_alone1, fm_nf_na1, fm_nf_la1]) "
   ]
  },
  {
   "cell_type": "code",
   "execution_count": 45,
   "metadata": {},
   "outputs": [
    {
     "data": {
      "text/html": [
       "<div>\n",
       "<style scoped>\n",
       "    .dataframe tbody tr th:only-of-type {\n",
       "        vertical-align: middle;\n",
       "    }\n",
       "\n",
       "    .dataframe tbody tr th {\n",
       "        vertical-align: top;\n",
       "    }\n",
       "\n",
       "    .dataframe thead th {\n",
       "        text-align: right;\n",
       "    }\n",
       "</style>\n",
       "<table border=\"1\" class=\"dataframe\">\n",
       "  <thead>\n",
       "    <tr style=\"text-align: right;\">\n",
       "      <th></th>\n",
       "      <th>Characteristic</th>\n",
       "      <th>narrow_age_bucket</th>\n",
       "      <th>narrow_count</th>\n",
       "      <th>household_type</th>\n",
       "    </tr>\n",
       "  </thead>\n",
       "  <tbody>\n",
       "    <tr>\n",
       "      <th>0</th>\n",
       "      <td>Under $5,000</td>\n",
       "      <td>15 to 24 years</td>\n",
       "      <td>16000.0</td>\n",
       "      <td>married</td>\n",
       "    </tr>\n",
       "    <tr>\n",
       "      <th>1</th>\n",
       "      <td>$5,000 to $9,999</td>\n",
       "      <td>15 to 24 years</td>\n",
       "      <td>11000.0</td>\n",
       "      <td>married</td>\n",
       "    </tr>\n",
       "    <tr>\n",
       "      <th>2</th>\n",
       "      <td>$10,000 to $14,999</td>\n",
       "      <td>15 to 24 years</td>\n",
       "      <td>12000.0</td>\n",
       "      <td>married</td>\n",
       "    </tr>\n",
       "    <tr>\n",
       "      <th>3</th>\n",
       "      <td>$15,000 to $19,999</td>\n",
       "      <td>15 to 24 years</td>\n",
       "      <td>20000.0</td>\n",
       "      <td>married</td>\n",
       "    </tr>\n",
       "    <tr>\n",
       "      <th>4</th>\n",
       "      <td>$20,000 to $24,999</td>\n",
       "      <td>15 to 24 years</td>\n",
       "      <td>52000.0</td>\n",
       "      <td>married</td>\n",
       "    </tr>\n",
       "    <tr>\n",
       "      <th>5</th>\n",
       "      <td>$25,000 to $29,999</td>\n",
       "      <td>15 to 24 years</td>\n",
       "      <td>49000.0</td>\n",
       "      <td>married</td>\n",
       "    </tr>\n",
       "    <tr>\n",
       "      <th>6</th>\n",
       "      <td>$30,000 to $34,999</td>\n",
       "      <td>15 to 24 years</td>\n",
       "      <td>55000.0</td>\n",
       "      <td>married</td>\n",
       "    </tr>\n",
       "    <tr>\n",
       "      <th>7</th>\n",
       "      <td>$35,000 to $39,999</td>\n",
       "      <td>15 to 24 years</td>\n",
       "      <td>84000.0</td>\n",
       "      <td>married</td>\n",
       "    </tr>\n",
       "    <tr>\n",
       "      <th>8</th>\n",
       "      <td>$40,000 to $44,999</td>\n",
       "      <td>15 to 24 years</td>\n",
       "      <td>54000.0</td>\n",
       "      <td>married</td>\n",
       "    </tr>\n",
       "    <tr>\n",
       "      <th>9</th>\n",
       "      <td>$45,000 to $49,999</td>\n",
       "      <td>15 to 24 years</td>\n",
       "      <td>68000.0</td>\n",
       "      <td>married</td>\n",
       "    </tr>\n",
       "  </tbody>\n",
       "</table>\n",
       "</div>"
      ],
      "text/plain": [
       "       Characteristic narrow_age_bucket  narrow_count household_type\n",
       "0        Under $5,000    15 to 24 years       16000.0        married\n",
       "1    $5,000 to $9,999    15 to 24 years       11000.0        married\n",
       "2  $10,000 to $14,999    15 to 24 years       12000.0        married\n",
       "3  $15,000 to $19,999    15 to 24 years       20000.0        married\n",
       "4  $20,000 to $24,999    15 to 24 years       52000.0        married\n",
       "5  $25,000 to $29,999    15 to 24 years       49000.0        married\n",
       "6  $30,000 to $34,999    15 to 24 years       55000.0        married\n",
       "7  $35,000 to $39,999    15 to 24 years       84000.0        married\n",
       "8  $40,000 to $44,999    15 to 24 years       54000.0        married\n",
       "9  $45,000 to $49,999    15 to 24 years       68000.0        married"
      ]
     },
     "execution_count": 45,
     "metadata": {},
     "output_type": "execute_result"
    }
   ],
   "source": [
    "total.head(10)"
   ]
  },
  {
   "cell_type": "code",
   "execution_count": 46,
   "metadata": {},
   "outputs": [
    {
     "data": {
      "text/plain": [
       "127562000.0"
      ]
     },
     "execution_count": 46,
     "metadata": {},
     "output_type": "execute_result"
    }
   ],
   "source": [
    "total.narrow_count.sum()"
   ]
  },
  {
   "cell_type": "code",
   "execution_count": 47,
   "metadata": {},
   "outputs": [
    {
     "data": {
      "text/plain": [
       "array(['married', 'single_dad', 'single_mom', 'male_alone',\n",
       "       'male_not_alone', 'single_woman'], dtype=object)"
      ]
     },
     "execution_count": 47,
     "metadata": {},
     "output_type": "execute_result"
    }
   ],
   "source": [
    "total.household_type.unique()"
   ]
  },
  {
   "cell_type": "code",
   "execution_count": 48,
   "metadata": {},
   "outputs": [
    {
     "data": {
      "text/html": [
       "<div>\n",
       "<style scoped>\n",
       "    .dataframe tbody tr th:only-of-type {\n",
       "        vertical-align: middle;\n",
       "    }\n",
       "\n",
       "    .dataframe tbody tr th {\n",
       "        vertical-align: top;\n",
       "    }\n",
       "\n",
       "    .dataframe thead th {\n",
       "        text-align: right;\n",
       "    }\n",
       "</style>\n",
       "<table border=\"1\" class=\"dataframe\">\n",
       "  <thead>\n",
       "    <tr style=\"text-align: right;\">\n",
       "      <th></th>\n",
       "      <th>narrow_count</th>\n",
       "    </tr>\n",
       "    <tr>\n",
       "      <th>household_type</th>\n",
       "      <th></th>\n",
       "    </tr>\n",
       "  </thead>\n",
       "  <tbody>\n",
       "    <tr>\n",
       "      <th>male_alone</th>\n",
       "      <td>16009000.0</td>\n",
       "    </tr>\n",
       "    <tr>\n",
       "      <th>male_not_alone</th>\n",
       "      <td>4996000.0</td>\n",
       "    </tr>\n",
       "    <tr>\n",
       "      <th>married</th>\n",
       "      <td>61242000.0</td>\n",
       "    </tr>\n",
       "    <tr>\n",
       "      <th>single_dad</th>\n",
       "      <td>6425000.0</td>\n",
       "    </tr>\n",
       "    <tr>\n",
       "      <th>single_mom</th>\n",
       "      <td>15422000.0</td>\n",
       "    </tr>\n",
       "    <tr>\n",
       "      <th>single_woman</th>\n",
       "      <td>23468000.0</td>\n",
       "    </tr>\n",
       "  </tbody>\n",
       "</table>\n",
       "</div>"
      ],
      "text/plain": [
       "                narrow_count\n",
       "household_type              \n",
       "male_alone        16009000.0\n",
       "male_not_alone     4996000.0\n",
       "married           61242000.0\n",
       "single_dad         6425000.0\n",
       "single_mom        15422000.0\n",
       "single_woman      23468000.0"
      ]
     },
     "execution_count": 48,
     "metadata": {},
     "output_type": "execute_result"
    }
   ],
   "source": [
    "total[['household_type', 'narrow_count']].groupby('household_type').agg('sum')"
   ]
  },
  {
   "cell_type": "code",
   "execution_count": 49,
   "metadata": {},
   "outputs": [
    {
     "data": {
      "text/plain": [
       "array(['15 to 24 years', '25 to 29 years', '30 to 34 years',\n",
       "       '35 to 39 years', '40 to 44 years', '45 to 49 years',\n",
       "       '50 to 54 years', '55 to 59 years', '60 to 64 years',\n",
       "       '65 to 69 years', '70 to 74 years', '75 years and over'],\n",
       "      dtype=object)"
      ]
     },
     "execution_count": 49,
     "metadata": {},
     "output_type": "execute_result"
    }
   ],
   "source": [
    "total.narrow_age_bucket.unique()"
   ]
  },
  {
   "cell_type": "markdown",
   "metadata": {},
   "source": [
    "Next we define a function to classify the narrow age groups into the same larger age groups we have in our market data. This will allow us to join the two datasets along the wider age variable."
   ]
  },
  {
   "cell_type": "code",
   "execution_count": 50,
   "metadata": {},
   "outputs": [],
   "source": [
    "def classify_ages(str_range):\n",
    "    \n",
    "    under_25 = ['15 to 24 years']\n",
    "    \n",
    "    tier2 = ['25 to 29 years', '30 to 34 years',\n",
    "       '35 to 39 years', '40 to 44 years']\n",
    "    \n",
    "    tier3 = ['45 to 49 years',\n",
    "       '50 to 54 years', '55 to 59 years', '60 to 64 years',]\n",
    "    \n",
    "    tier4 = ['65 to 69 years', '70 to 74 years', '75 years and over']\n",
    "    \n",
    "    if str_range in under_25:\n",
    "        return 'under 25'\n",
    "    \n",
    "    elif str_range in tier2:\n",
    "        return '25 to 44'\n",
    "    \n",
    "    elif str_range in tier3:\n",
    "        return '45 to 65'\n",
    "    \n",
    "    elif str_range in tier4:\n",
    "        return '65 +'\n",
    "    else:\n",
    "        return 'no idea'\n"
   ]
  },
  {
   "cell_type": "markdown",
   "metadata": {},
   "source": [
    "We also define a function to map the narrow income ranges to the wider income ranges that we want to use in our market data set."
   ]
  },
  {
   "cell_type": "code",
   "execution_count": 51,
   "metadata": {},
   "outputs": [],
   "source": [
    "def classify_income(str_range):\n",
    "    \n",
    "    under_75k = ['Under $5,000', '$5,000 to $9,999', '$10,000 to $14,999',\n",
    "       '$15,000 to $19,999', '$20,000 to $24,999', '$25,000 to $29,999',\n",
    "       '$30,000 to $34,999', '$35,000 to $39,999', '$40,000 to $44,999',\n",
    "       '$45,000 to $49,999', '$50,000 to $54,999', '$55,000 to $59,999',\n",
    "       '$60,000 to $64,999', '$65,000 to $69,999', '$70,000 to $74,999']\n",
    "    \n",
    "    tier2 = ['$75,000 to $79,999', '$80,000 to $84,999', '$85,000 to $89,999',\n",
    "       '$90,000 to $94,999', '$95,000 to $99,999']\n",
    "    \n",
    "    tier3 = ['$100,000 to $104,999',\n",
    "       '$105,000 to $109,999', '$110,000 to $114,999',\n",
    "       '$115,000 to $119,999', '$120,000 to $124,999']\n",
    "       \n",
    "    tier4 = ['$125,000 to $129,999', '$130,000 to $134,999',\n",
    "       '$135,000 to $139,999', '$140,000 to $144,999',\n",
    "       '$145,000 to $149,999']\n",
    "    \n",
    "    tier5 = ['$150,000 to $154,999',\n",
    "       '$155,000 to $159,999', '$160,000 to $164,999',\n",
    "       '$165,000 to $169,999', '$170,000 to $174,999',\n",
    "       '$175,000 to $179,999', '$180,000 to $184,999',\n",
    "       '$185,000 to $189,999', '$190,000 to $194,999',\n",
    "       '$195,000 to $199,999']\n",
    "    \n",
    "    tier6 = ['$200,000 and over']\n",
    "    \n",
    "    if str_range in under_75k:\n",
    "        return 'Under 75k'\n",
    "    \n",
    "    elif str_range in tier2:\n",
    "        return '$75,000 to $99,999'\n",
    "    \n",
    "    elif str_range in tier3:\n",
    "        return '$100,000 to $124,999'\n",
    "    \n",
    "    elif str_range in tier4:\n",
    "        return '$125,000 to $149,999'\n",
    "    \n",
    "    elif str_range in tier5:\n",
    "        return '$150,000 to $199,999'\n",
    "    else:\n",
    "        return '$200,000 or more'\n",
    "    "
   ]
  },
  {
   "cell_type": "code",
   "execution_count": 52,
   "metadata": {},
   "outputs": [
    {
     "data": {
      "text/html": [
       "<div>\n",
       "<style scoped>\n",
       "    .dataframe tbody tr th:only-of-type {\n",
       "        vertical-align: middle;\n",
       "    }\n",
       "\n",
       "    .dataframe tbody tr th {\n",
       "        vertical-align: top;\n",
       "    }\n",
       "\n",
       "    .dataframe thead th {\n",
       "        text-align: right;\n",
       "    }\n",
       "</style>\n",
       "<table border=\"1\" class=\"dataframe\">\n",
       "  <thead>\n",
       "    <tr style=\"text-align: right;\">\n",
       "      <th></th>\n",
       "      <th>Characteristic</th>\n",
       "      <th>narrow_age_bucket</th>\n",
       "      <th>narrow_count</th>\n",
       "      <th>household_type</th>\n",
       "      <th>wide_income</th>\n",
       "      <th>age_bracket</th>\n",
       "    </tr>\n",
       "  </thead>\n",
       "  <tbody>\n",
       "    <tr>\n",
       "      <th>0</th>\n",
       "      <td>Under $5,000</td>\n",
       "      <td>15 to 24 years</td>\n",
       "      <td>16000.0</td>\n",
       "      <td>married</td>\n",
       "      <td>Under 75k</td>\n",
       "      <td>under 25</td>\n",
       "    </tr>\n",
       "    <tr>\n",
       "      <th>1</th>\n",
       "      <td>$5,000 to $9,999</td>\n",
       "      <td>15 to 24 years</td>\n",
       "      <td>11000.0</td>\n",
       "      <td>married</td>\n",
       "      <td>Under 75k</td>\n",
       "      <td>under 25</td>\n",
       "    </tr>\n",
       "    <tr>\n",
       "      <th>2</th>\n",
       "      <td>$10,000 to $14,999</td>\n",
       "      <td>15 to 24 years</td>\n",
       "      <td>12000.0</td>\n",
       "      <td>married</td>\n",
       "      <td>Under 75k</td>\n",
       "      <td>under 25</td>\n",
       "    </tr>\n",
       "    <tr>\n",
       "      <th>3</th>\n",
       "      <td>$15,000 to $19,999</td>\n",
       "      <td>15 to 24 years</td>\n",
       "      <td>20000.0</td>\n",
       "      <td>married</td>\n",
       "      <td>Under 75k</td>\n",
       "      <td>under 25</td>\n",
       "    </tr>\n",
       "    <tr>\n",
       "      <th>4</th>\n",
       "      <td>$20,000 to $24,999</td>\n",
       "      <td>15 to 24 years</td>\n",
       "      <td>52000.0</td>\n",
       "      <td>married</td>\n",
       "      <td>Under 75k</td>\n",
       "      <td>under 25</td>\n",
       "    </tr>\n",
       "  </tbody>\n",
       "</table>\n",
       "</div>"
      ],
      "text/plain": [
       "       Characteristic narrow_age_bucket  narrow_count household_type  \\\n",
       "0        Under $5,000    15 to 24 years       16000.0        married   \n",
       "1    $5,000 to $9,999    15 to 24 years       11000.0        married   \n",
       "2  $10,000 to $14,999    15 to 24 years       12000.0        married   \n",
       "3  $15,000 to $19,999    15 to 24 years       20000.0        married   \n",
       "4  $20,000 to $24,999    15 to 24 years       52000.0        married   \n",
       "\n",
       "  wide_income age_bracket  \n",
       "0   Under 75k    under 25  \n",
       "1   Under 75k    under 25  \n",
       "2   Under 75k    under 25  \n",
       "3   Under 75k    under 25  \n",
       "4   Under 75k    under 25  "
      ]
     },
     "execution_count": 52,
     "metadata": {},
     "output_type": "execute_result"
    }
   ],
   "source": [
    "total['wide_income'] = total['Characteristic'].apply(classify_income)\n",
    "total['age_bracket'] = total['narrow_age_bucket'].apply(classify_ages)\n",
    "total.head()"
   ]
  },
  {
   "cell_type": "code",
   "execution_count": 53,
   "metadata": {},
   "outputs": [
    {
     "data": {
      "text/plain": [
       "127562000.0"
      ]
     },
     "execution_count": 53,
     "metadata": {},
     "output_type": "execute_result"
    }
   ],
   "source": [
    "total.narrow_count.sum()"
   ]
  },
  {
   "cell_type": "code",
   "execution_count": 54,
   "metadata": {},
   "outputs": [
    {
     "data": {
      "text/plain": [
       "(3444, 6)"
      ]
     },
     "execution_count": 54,
     "metadata": {},
     "output_type": "execute_result"
    }
   ],
   "source": [
    "total.shape"
   ]
  },
  {
   "cell_type": "markdown",
   "metadata": {},
   "source": [
    "Now we have a dataset tallying 127 million households along narrow age ranges, the same household types as our market data, the wide income ranges as our market data, and the same wide age brackets as our market data set. Next we will create a new data set that sums the total count of households by wide income range, wide age range, and household type. We will use these totals to calculate the percentage of narrow age ranges within those."
   ]
  },
  {
   "cell_type": "code",
   "execution_count": 55,
   "metadata": {},
   "outputs": [
    {
     "data": {
      "text/html": [
       "<div>\n",
       "<style scoped>\n",
       "    .dataframe tbody tr th:only-of-type {\n",
       "        vertical-align: middle;\n",
       "    }\n",
       "\n",
       "    .dataframe tbody tr th {\n",
       "        vertical-align: top;\n",
       "    }\n",
       "\n",
       "    .dataframe thead th {\n",
       "        text-align: right;\n",
       "    }\n",
       "</style>\n",
       "<table border=\"1\" class=\"dataframe\">\n",
       "  <thead>\n",
       "    <tr style=\"text-align: right;\">\n",
       "      <th></th>\n",
       "      <th>household_type</th>\n",
       "      <th>wide_income</th>\n",
       "      <th>age_bracket</th>\n",
       "      <th>narrow_count</th>\n",
       "    </tr>\n",
       "  </thead>\n",
       "  <tbody>\n",
       "    <tr>\n",
       "      <th>0</th>\n",
       "      <td>male_alone</td>\n",
       "      <td>$100,000 to $124,999</td>\n",
       "      <td>25 to 44</td>\n",
       "      <td>294000.0</td>\n",
       "    </tr>\n",
       "    <tr>\n",
       "      <th>1</th>\n",
       "      <td>male_alone</td>\n",
       "      <td>$100,000 to $124,999</td>\n",
       "      <td>45 to 65</td>\n",
       "      <td>299000.0</td>\n",
       "    </tr>\n",
       "    <tr>\n",
       "      <th>2</th>\n",
       "      <td>male_alone</td>\n",
       "      <td>$100,000 to $124,999</td>\n",
       "      <td>65 +</td>\n",
       "      <td>165000.0</td>\n",
       "    </tr>\n",
       "    <tr>\n",
       "      <th>3</th>\n",
       "      <td>male_alone</td>\n",
       "      <td>$100,000 to $124,999</td>\n",
       "      <td>under 25</td>\n",
       "      <td>17000.0</td>\n",
       "    </tr>\n",
       "    <tr>\n",
       "      <th>4</th>\n",
       "      <td>male_alone</td>\n",
       "      <td>$125,000 to $149,999</td>\n",
       "      <td>25 to 44</td>\n",
       "      <td>144000.0</td>\n",
       "    </tr>\n",
       "  </tbody>\n",
       "</table>\n",
       "</div>"
      ],
      "text/plain": [
       "  household_type           wide_income age_bracket  narrow_count\n",
       "0     male_alone  $100,000 to $124,999    25 to 44      294000.0\n",
       "1     male_alone  $100,000 to $124,999    45 to 65      299000.0\n",
       "2     male_alone  $100,000 to $124,999        65 +      165000.0\n",
       "3     male_alone  $100,000 to $124,999    under 25       17000.0\n",
       "4     male_alone  $125,000 to $149,999    25 to 44      144000.0"
      ]
     },
     "execution_count": 55,
     "metadata": {},
     "output_type": "execute_result"
    }
   ],
   "source": [
    "# grand counts by household type\n",
    "grands = total[['household_type', 'narrow_count', 'age_bracket','wide_income']].groupby(['household_type', 'wide_income', 'age_bracket']).agg('sum').reset_index()\n",
    "grands.head()"
   ]
  },
  {
   "cell_type": "code",
   "execution_count": 56,
   "metadata": {},
   "outputs": [
    {
     "data": {
      "text/html": [
       "<div>\n",
       "<style scoped>\n",
       "    .dataframe tbody tr th:only-of-type {\n",
       "        vertical-align: middle;\n",
       "    }\n",
       "\n",
       "    .dataframe tbody tr th {\n",
       "        vertical-align: top;\n",
       "    }\n",
       "\n",
       "    .dataframe thead th {\n",
       "        text-align: right;\n",
       "    }\n",
       "</style>\n",
       "<table border=\"1\" class=\"dataframe\">\n",
       "  <thead>\n",
       "    <tr style=\"text-align: right;\">\n",
       "      <th></th>\n",
       "      <th>narrow_count</th>\n",
       "    </tr>\n",
       "    <tr>\n",
       "      <th>household_type</th>\n",
       "      <th></th>\n",
       "    </tr>\n",
       "  </thead>\n",
       "  <tbody>\n",
       "    <tr>\n",
       "      <th>male_alone</th>\n",
       "      <td>16009000.0</td>\n",
       "    </tr>\n",
       "    <tr>\n",
       "      <th>male_not_alone</th>\n",
       "      <td>4996000.0</td>\n",
       "    </tr>\n",
       "    <tr>\n",
       "      <th>married</th>\n",
       "      <td>61242000.0</td>\n",
       "    </tr>\n",
       "    <tr>\n",
       "      <th>single_dad</th>\n",
       "      <td>6425000.0</td>\n",
       "    </tr>\n",
       "    <tr>\n",
       "      <th>single_mom</th>\n",
       "      <td>15422000.0</td>\n",
       "    </tr>\n",
       "    <tr>\n",
       "      <th>single_woman</th>\n",
       "      <td>23468000.0</td>\n",
       "    </tr>\n",
       "  </tbody>\n",
       "</table>\n",
       "</div>"
      ],
      "text/plain": [
       "                narrow_count\n",
       "household_type              \n",
       "male_alone        16009000.0\n",
       "male_not_alone     4996000.0\n",
       "married           61242000.0\n",
       "single_dad         6425000.0\n",
       "single_mom        15422000.0\n",
       "single_woman      23468000.0"
      ]
     },
     "execution_count": 56,
     "metadata": {},
     "output_type": "execute_result"
    }
   ],
   "source": [
    "grands[['household_type', 'narrow_count']].groupby('household_type').agg('sum')"
   ]
  },
  {
   "cell_type": "code",
   "execution_count": 57,
   "metadata": {},
   "outputs": [
    {
     "data": {
      "text/plain": [
       "127562000.0"
      ]
     },
     "execution_count": 57,
     "metadata": {},
     "output_type": "execute_result"
    }
   ],
   "source": [
    "grands.narrow_count.sum()"
   ]
  },
  {
   "cell_type": "markdown",
   "metadata": {},
   "source": [
    "Above we verify that our `grands` dataset still has the same number of households as our `total` dataset, just at a different level of granularity. Now we can merge our totals (the _slices_ of data containing narrow age ranges) with our grand totals on household type, wide income, and wide age. From the resulting dataset we can then calculate the percentage of households in a narrow range that make up a wider age range. We will use these percentages estimate household counts along narrower age slices within our market data."
   ]
  },
  {
   "cell_type": "code",
   "execution_count": 58,
   "metadata": {},
   "outputs": [
    {
     "data": {
      "text/html": [
       "<div>\n",
       "<style scoped>\n",
       "    .dataframe tbody tr th:only-of-type {\n",
       "        vertical-align: middle;\n",
       "    }\n",
       "\n",
       "    .dataframe tbody tr th {\n",
       "        vertical-align: top;\n",
       "    }\n",
       "\n",
       "    .dataframe thead th {\n",
       "        text-align: right;\n",
       "    }\n",
       "</style>\n",
       "<table border=\"1\" class=\"dataframe\">\n",
       "  <thead>\n",
       "    <tr style=\"text-align: right;\">\n",
       "      <th></th>\n",
       "      <th>age_bracket</th>\n",
       "      <th>household_type</th>\n",
       "      <th>narrow_age_bucket</th>\n",
       "      <th>wide_income</th>\n",
       "      <th>narrow_count_x</th>\n",
       "      <th>narrow_count_y</th>\n",
       "      <th>pct</th>\n",
       "    </tr>\n",
       "  </thead>\n",
       "  <tbody>\n",
       "    <tr>\n",
       "      <th>0</th>\n",
       "      <td>25 to 44</td>\n",
       "      <td>male_alone</td>\n",
       "      <td>25 to 29 years</td>\n",
       "      <td>$100,000 to $124,999</td>\n",
       "      <td>62000.0</td>\n",
       "      <td>294000.0</td>\n",
       "      <td>0.210884</td>\n",
       "    </tr>\n",
       "    <tr>\n",
       "      <th>1</th>\n",
       "      <td>25 to 44</td>\n",
       "      <td>male_alone</td>\n",
       "      <td>30 to 34 years</td>\n",
       "      <td>$100,000 to $124,999</td>\n",
       "      <td>71000.0</td>\n",
       "      <td>294000.0</td>\n",
       "      <td>0.241497</td>\n",
       "    </tr>\n",
       "    <tr>\n",
       "      <th>2</th>\n",
       "      <td>25 to 44</td>\n",
       "      <td>male_alone</td>\n",
       "      <td>35 to 39 years</td>\n",
       "      <td>$100,000 to $124,999</td>\n",
       "      <td>97000.0</td>\n",
       "      <td>294000.0</td>\n",
       "      <td>0.329932</td>\n",
       "    </tr>\n",
       "    <tr>\n",
       "      <th>3</th>\n",
       "      <td>25 to 44</td>\n",
       "      <td>male_alone</td>\n",
       "      <td>40 to 44 years</td>\n",
       "      <td>$100,000 to $124,999</td>\n",
       "      <td>64000.0</td>\n",
       "      <td>294000.0</td>\n",
       "      <td>0.217687</td>\n",
       "    </tr>\n",
       "    <tr>\n",
       "      <th>4</th>\n",
       "      <td>25 to 44</td>\n",
       "      <td>male_alone</td>\n",
       "      <td>25 to 29 years</td>\n",
       "      <td>$125,000 to $149,999</td>\n",
       "      <td>38000.0</td>\n",
       "      <td>144000.0</td>\n",
       "      <td>0.263889</td>\n",
       "    </tr>\n",
       "  </tbody>\n",
       "</table>\n",
       "</div>"
      ],
      "text/plain": [
       "  age_bracket household_type narrow_age_bucket           wide_income  \\\n",
       "0    25 to 44     male_alone    25 to 29 years  $100,000 to $124,999   \n",
       "1    25 to 44     male_alone    30 to 34 years  $100,000 to $124,999   \n",
       "2    25 to 44     male_alone    35 to 39 years  $100,000 to $124,999   \n",
       "3    25 to 44     male_alone    40 to 44 years  $100,000 to $124,999   \n",
       "4    25 to 44     male_alone    25 to 29 years  $125,000 to $149,999   \n",
       "\n",
       "   narrow_count_x  narrow_count_y       pct  \n",
       "0         62000.0        294000.0  0.210884  \n",
       "1         71000.0        294000.0  0.241497  \n",
       "2         97000.0        294000.0  0.329932  \n",
       "3         64000.0        294000.0  0.217687  \n",
       "4         38000.0        144000.0  0.263889  "
      ]
     },
     "execution_count": 58,
     "metadata": {},
     "output_type": "execute_result"
    }
   ],
   "source": [
    "# narrow counts by age and income\n",
    "slices = total[['household_type', 'narrow_count', 'narrow_age_bucket', 'wide_income', 'age_bracket']].groupby(['age_bracket','household_type', 'narrow_age_bucket', 'wide_income']).agg('sum').reset_index()\n",
    "pct_map = pd.merge(slices, grands, on=['household_type', 'wide_income', 'age_bracket'])\n",
    "pct_map['pct'] = pct_map.narrow_count_x / pct_map.narrow_count_y\n",
    "#pct_map[['age_bracket', 'household_type', 'wide_income','pct']].groupby(['age_bracket', 'wide_income', 'household_type']).agg('sum').head()\n",
    "pct_map.head()"
   ]
  },
  {
   "cell_type": "code",
   "execution_count": 59,
   "metadata": {},
   "outputs": [
    {
     "data": {
      "text/plain": [
       "127562000.0"
      ]
     },
     "execution_count": 59,
     "metadata": {},
     "output_type": "execute_result"
    }
   ],
   "source": [
    "pct_map.narrow_count_x.sum()"
   ]
  },
  {
   "cell_type": "markdown",
   "metadata": {},
   "source": [
    "Looks pretty good so far. However notice the NaN values in the `pct` column for the _male_alone_ household type. Apparently there aren't any households recorded with male householders, living alone, in the $150k and over income bracket. We can force those NaN's to 0 so it won't cause issues for us later."
   ]
  },
  {
   "cell_type": "code",
   "execution_count": 60,
   "metadata": {},
   "outputs": [
    {
     "data": {
      "text/html": [
       "<div>\n",
       "<style scoped>\n",
       "    .dataframe tbody tr th:only-of-type {\n",
       "        vertical-align: middle;\n",
       "    }\n",
       "\n",
       "    .dataframe tbody tr th {\n",
       "        vertical-align: top;\n",
       "    }\n",
       "\n",
       "    .dataframe thead th {\n",
       "        text-align: right;\n",
       "    }\n",
       "</style>\n",
       "<table border=\"1\" class=\"dataframe\">\n",
       "  <thead>\n",
       "    <tr style=\"text-align: right;\">\n",
       "      <th></th>\n",
       "      <th>age_bracket</th>\n",
       "      <th>household_type</th>\n",
       "      <th>narrow_age_bucket</th>\n",
       "      <th>wide_income</th>\n",
       "      <th>narrow_count_x</th>\n",
       "      <th>narrow_count_y</th>\n",
       "      <th>pct</th>\n",
       "    </tr>\n",
       "  </thead>\n",
       "  <tbody>\n",
       "    <tr>\n",
       "      <th>397</th>\n",
       "      <td>under 25</td>\n",
       "      <td>male_alone</td>\n",
       "      <td>15 to 24 years</td>\n",
       "      <td>$125,000 to $149,999</td>\n",
       "      <td>7000.0</td>\n",
       "      <td>7000.0</td>\n",
       "      <td>1.0</td>\n",
       "    </tr>\n",
       "    <tr>\n",
       "      <th>398</th>\n",
       "      <td>under 25</td>\n",
       "      <td>male_alone</td>\n",
       "      <td>15 to 24 years</td>\n",
       "      <td>$150,000 to $199,999</td>\n",
       "      <td>0.0</td>\n",
       "      <td>0.0</td>\n",
       "      <td>NaN</td>\n",
       "    </tr>\n",
       "    <tr>\n",
       "      <th>399</th>\n",
       "      <td>under 25</td>\n",
       "      <td>male_alone</td>\n",
       "      <td>15 to 24 years</td>\n",
       "      <td>$200,000 or more</td>\n",
       "      <td>0.0</td>\n",
       "      <td>0.0</td>\n",
       "      <td>NaN</td>\n",
       "    </tr>\n",
       "    <tr>\n",
       "      <th>400</th>\n",
       "      <td>under 25</td>\n",
       "      <td>male_alone</td>\n",
       "      <td>15 to 24 years</td>\n",
       "      <td>$75,000 to $99,999</td>\n",
       "      <td>59000.0</td>\n",
       "      <td>59000.0</td>\n",
       "      <td>1.0</td>\n",
       "    </tr>\n",
       "    <tr>\n",
       "      <th>401</th>\n",
       "      <td>under 25</td>\n",
       "      <td>male_alone</td>\n",
       "      <td>15 to 24 years</td>\n",
       "      <td>Under 75k</td>\n",
       "      <td>664000.0</td>\n",
       "      <td>664000.0</td>\n",
       "      <td>1.0</td>\n",
       "    </tr>\n",
       "  </tbody>\n",
       "</table>\n",
       "</div>"
      ],
      "text/plain": [
       "    age_bracket household_type narrow_age_bucket           wide_income  \\\n",
       "397    under 25     male_alone    15 to 24 years  $125,000 to $149,999   \n",
       "398    under 25     male_alone    15 to 24 years  $150,000 to $199,999   \n",
       "399    under 25     male_alone    15 to 24 years      $200,000 or more   \n",
       "400    under 25     male_alone    15 to 24 years    $75,000 to $99,999   \n",
       "401    under 25     male_alone    15 to 24 years             Under 75k   \n",
       "\n",
       "     narrow_count_x  narrow_count_y  pct  \n",
       "397          7000.0          7000.0  1.0  \n",
       "398             0.0             0.0  NaN  \n",
       "399             0.0             0.0  NaN  \n",
       "400         59000.0         59000.0  1.0  \n",
       "401        664000.0        664000.0  1.0  "
      ]
     },
     "execution_count": 60,
     "metadata": {},
     "output_type": "execute_result"
    }
   ],
   "source": [
    "pct_map.query('household_type == \"male_alone\"' ).tail()"
   ]
  },
  {
   "cell_type": "code",
   "execution_count": 61,
   "metadata": {},
   "outputs": [],
   "source": [
    "pct_map['pct'] = pct_map['pct'].fillna((0))"
   ]
  },
  {
   "cell_type": "code",
   "execution_count": 62,
   "metadata": {},
   "outputs": [
    {
     "data": {
      "text/html": [
       "<div>\n",
       "<style scoped>\n",
       "    .dataframe tbody tr th:only-of-type {\n",
       "        vertical-align: middle;\n",
       "    }\n",
       "\n",
       "    .dataframe tbody tr th {\n",
       "        vertical-align: top;\n",
       "    }\n",
       "\n",
       "    .dataframe thead th {\n",
       "        text-align: right;\n",
       "    }\n",
       "</style>\n",
       "<table border=\"1\" class=\"dataframe\">\n",
       "  <thead>\n",
       "    <tr style=\"text-align: right;\">\n",
       "      <th></th>\n",
       "      <th>age_bracket</th>\n",
       "      <th>household_type</th>\n",
       "      <th>narrow_age_bucket</th>\n",
       "      <th>wide_income</th>\n",
       "      <th>narrow_count_x</th>\n",
       "      <th>narrow_count_y</th>\n",
       "      <th>pct</th>\n",
       "    </tr>\n",
       "  </thead>\n",
       "  <tbody>\n",
       "    <tr>\n",
       "      <th>397</th>\n",
       "      <td>under 25</td>\n",
       "      <td>male_alone</td>\n",
       "      <td>15 to 24 years</td>\n",
       "      <td>$125,000 to $149,999</td>\n",
       "      <td>7000.0</td>\n",
       "      <td>7000.0</td>\n",
       "      <td>1.0</td>\n",
       "    </tr>\n",
       "    <tr>\n",
       "      <th>398</th>\n",
       "      <td>under 25</td>\n",
       "      <td>male_alone</td>\n",
       "      <td>15 to 24 years</td>\n",
       "      <td>$150,000 to $199,999</td>\n",
       "      <td>0.0</td>\n",
       "      <td>0.0</td>\n",
       "      <td>0.0</td>\n",
       "    </tr>\n",
       "    <tr>\n",
       "      <th>399</th>\n",
       "      <td>under 25</td>\n",
       "      <td>male_alone</td>\n",
       "      <td>15 to 24 years</td>\n",
       "      <td>$200,000 or more</td>\n",
       "      <td>0.0</td>\n",
       "      <td>0.0</td>\n",
       "      <td>0.0</td>\n",
       "    </tr>\n",
       "    <tr>\n",
       "      <th>400</th>\n",
       "      <td>under 25</td>\n",
       "      <td>male_alone</td>\n",
       "      <td>15 to 24 years</td>\n",
       "      <td>$75,000 to $99,999</td>\n",
       "      <td>59000.0</td>\n",
       "      <td>59000.0</td>\n",
       "      <td>1.0</td>\n",
       "    </tr>\n",
       "    <tr>\n",
       "      <th>401</th>\n",
       "      <td>under 25</td>\n",
       "      <td>male_alone</td>\n",
       "      <td>15 to 24 years</td>\n",
       "      <td>Under 75k</td>\n",
       "      <td>664000.0</td>\n",
       "      <td>664000.0</td>\n",
       "      <td>1.0</td>\n",
       "    </tr>\n",
       "  </tbody>\n",
       "</table>\n",
       "</div>"
      ],
      "text/plain": [
       "    age_bracket household_type narrow_age_bucket           wide_income  \\\n",
       "397    under 25     male_alone    15 to 24 years  $125,000 to $149,999   \n",
       "398    under 25     male_alone    15 to 24 years  $150,000 to $199,999   \n",
       "399    under 25     male_alone    15 to 24 years      $200,000 or more   \n",
       "400    under 25     male_alone    15 to 24 years    $75,000 to $99,999   \n",
       "401    under 25     male_alone    15 to 24 years             Under 75k   \n",
       "\n",
       "     narrow_count_x  narrow_count_y  pct  \n",
       "397          7000.0          7000.0  1.0  \n",
       "398             0.0             0.0  0.0  \n",
       "399             0.0             0.0  0.0  \n",
       "400         59000.0         59000.0  1.0  \n",
       "401        664000.0        664000.0  1.0  "
      ]
     },
     "execution_count": 62,
     "metadata": {},
     "output_type": "execute_result"
    }
   ],
   "source": [
    "pct_map.query('household_type == \"male_alone\"' ).tail()"
   ]
  },
  {
   "cell_type": "markdown",
   "metadata": {},
   "source": [
    "Now we will pickle this dataframe (aka save it) so we can pull it into our primary notebook and extrapolate to narrower age ranges."
   ]
  },
  {
   "cell_type": "code",
   "execution_count": 63,
   "metadata": {},
   "outputs": [],
   "source": [
    "pct_map.to_pickle('pct_map') "
   ]
  },
  {
   "cell_type": "code",
   "execution_count": 64,
   "metadata": {},
   "outputs": [],
   "source": [
    "pct_map['grand_total'] = pct_map.narrow_count_x.sum()\n",
    "overview = pct_map[['household_type', 'grand_total', 'narrow_count_x']].groupby(['household_type', 'grand_total']).agg('sum').reset_index()\n",
    "overview['pct'] = overview.narrow_count_x / overview.grand_total\n",
    "overview.head(10)\n",
    "overview.to_pickle('overview')    #to save the dataframe, df to 123.pkl"
   ]
  },
  {
   "cell_type": "code",
   "execution_count": 65,
   "metadata": {},
   "outputs": [
    {
     "data": {
      "text/plain": [
       "127562000.0"
      ]
     },
     "execution_count": 65,
     "metadata": {},
     "output_type": "execute_result"
    }
   ],
   "source": [
    "overview.narrow_count_x.sum()"
   ]
  },
  {
   "cell_type": "code",
   "execution_count": 66,
   "metadata": {},
   "outputs": [
    {
     "data": {
      "text/html": [
       "<div>\n",
       "<style scoped>\n",
       "    .dataframe tbody tr th:only-of-type {\n",
       "        vertical-align: middle;\n",
       "    }\n",
       "\n",
       "    .dataframe tbody tr th {\n",
       "        vertical-align: top;\n",
       "    }\n",
       "\n",
       "    .dataframe thead th {\n",
       "        text-align: right;\n",
       "    }\n",
       "</style>\n",
       "<table border=\"1\" class=\"dataframe\">\n",
       "  <thead>\n",
       "    <tr style=\"text-align: right;\">\n",
       "      <th></th>\n",
       "      <th>household_type</th>\n",
       "      <th>grand_total</th>\n",
       "      <th>narrow_count_x</th>\n",
       "      <th>pct</th>\n",
       "    </tr>\n",
       "  </thead>\n",
       "  <tbody>\n",
       "    <tr>\n",
       "      <th>0</th>\n",
       "      <td>male_alone</td>\n",
       "      <td>127562000.0</td>\n",
       "      <td>16009000.0</td>\n",
       "      <td>0.125500</td>\n",
       "    </tr>\n",
       "    <tr>\n",
       "      <th>1</th>\n",
       "      <td>male_not_alone</td>\n",
       "      <td>127562000.0</td>\n",
       "      <td>4996000.0</td>\n",
       "      <td>0.039165</td>\n",
       "    </tr>\n",
       "    <tr>\n",
       "      <th>2</th>\n",
       "      <td>married</td>\n",
       "      <td>127562000.0</td>\n",
       "      <td>61242000.0</td>\n",
       "      <td>0.480096</td>\n",
       "    </tr>\n",
       "    <tr>\n",
       "      <th>3</th>\n",
       "      <td>single_dad</td>\n",
       "      <td>127562000.0</td>\n",
       "      <td>6425000.0</td>\n",
       "      <td>0.050368</td>\n",
       "    </tr>\n",
       "    <tr>\n",
       "      <th>4</th>\n",
       "      <td>single_mom</td>\n",
       "      <td>127562000.0</td>\n",
       "      <td>15422000.0</td>\n",
       "      <td>0.120898</td>\n",
       "    </tr>\n",
       "    <tr>\n",
       "      <th>5</th>\n",
       "      <td>single_woman</td>\n",
       "      <td>127562000.0</td>\n",
       "      <td>23468000.0</td>\n",
       "      <td>0.183973</td>\n",
       "    </tr>\n",
       "  </tbody>\n",
       "</table>\n",
       "</div>"
      ],
      "text/plain": [
       "   household_type  grand_total  narrow_count_x       pct\n",
       "0      male_alone  127562000.0      16009000.0  0.125500\n",
       "1  male_not_alone  127562000.0       4996000.0  0.039165\n",
       "2         married  127562000.0      61242000.0  0.480096\n",
       "3      single_dad  127562000.0       6425000.0  0.050368\n",
       "4      single_mom  127562000.0      15422000.0  0.120898\n",
       "5    single_woman  127562000.0      23468000.0  0.183973"
      ]
     },
     "execution_count": 66,
     "metadata": {},
     "output_type": "execute_result"
    }
   ],
   "source": [
    "overview"
   ]
  },
  {
   "cell_type": "code",
   "execution_count": 67,
   "metadata": {},
   "outputs": [
    {
     "data": {
      "text/plain": [
       "1.0"
      ]
     },
     "execution_count": 67,
     "metadata": {},
     "output_type": "execute_result"
    }
   ],
   "source": [
    "overview.pct.sum()"
   ]
  },
  {
   "cell_type": "code",
   "execution_count": null,
   "metadata": {},
   "outputs": [],
   "source": []
  },
  {
   "cell_type": "code",
   "execution_count": null,
   "metadata": {},
   "outputs": [],
   "source": [
    "mapping = pct_map[['household_type', 'narrow_age_bucket', 'pct', 'wide_income', 'wide_ages']]\n",
    "mapping[['household_type', 'pct']].groupby(['household_type']).agg('sum')\n",
    "mapping.head()"
   ]
  }
 ],
 "metadata": {
  "kernelspec": {
   "display_name": "Python 3",
   "language": "python",
   "name": "python3"
  },
  "language_info": {
   "codemirror_mode": {
    "name": "ipython",
    "version": 3
   },
   "file_extension": ".py",
   "mimetype": "text/x-python",
   "name": "python",
   "nbconvert_exporter": "python",
   "pygments_lexer": "ipython3",
   "version": "3.7.3"
  }
 },
 "nbformat": 4,
 "nbformat_minor": 2
}
